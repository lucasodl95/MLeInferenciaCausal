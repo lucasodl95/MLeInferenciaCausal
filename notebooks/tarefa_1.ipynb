{
 "cells": [
  {
   "cell_type": "markdown",
   "metadata": {},
   "source": [
    "# 1. Importação de Bibliotecas e Leitura dos Dados"
   ]
  },
  {
   "cell_type": "code",
   "execution_count": 65,
   "metadata": {},
   "outputs": [],
   "source": [
    "import pandas as pd\n",
    "import numpy as np\n",
    "import matplotlib.pyplot as plt\n",
    "import seaborn as sns\n",
    "from datetime import datetime\n",
    "from sklearn.model_selection import train_test_split\n",
    "from sklearn.ensemble import RandomForestClassifier\n",
    "from sklearn.preprocessing import LabelEncoder\n",
    "from sklearn.metrics import classification_report, accuracy_score, roc_auc_score, confusion_matrix, roc_curve, auc\n",
    "import time\n",
    "from tqdm import tqdm\n",
    "\n",
    "sns.set_theme(style=\"darkgrid\", palette=\"viridis\")\n",
    "plt.rcParams[\"figure.figsize\"] = (10, 6)\n",
    "\n",
    "import warnings\n",
    "warnings.filterwarnings(\"ignore\")"
   ]
  },
  {
   "cell_type": "code",
   "execution_count": 66,
   "metadata": {},
   "outputs": [],
   "source": [
    "path_mensalidades = '..\\\\data\\\\mensalidades_teste.csv'\n",
    "path_cobranca = '..\\\\data\\\\cobrancas_teste.csv'\n",
    "\n",
    "df_mensalidades = pd.read_csv(path_mensalidades)\n",
    "df_cobranca = pd.read_csv(path_cobranca)"
   ]
  },
  {
   "cell_type": "code",
   "execution_count": 67,
   "metadata": {},
   "outputs": [
    {
     "name": "stdout",
     "output_type": "stream",
     "text": [
      "Mensalidades:\n"
     ]
    },
    {
     "data": {
      "text/html": [
       "<div>\n",
       "<style scoped>\n",
       "    .dataframe tbody tr th:only-of-type {\n",
       "        vertical-align: middle;\n",
       "    }\n",
       "\n",
       "    .dataframe tbody tr th {\n",
       "        vertical-align: top;\n",
       "    }\n",
       "\n",
       "    .dataframe thead th {\n",
       "        text-align: right;\n",
       "    }\n",
       "</style>\n",
       "<table border=\"1\" class=\"dataframe\">\n",
       "  <thead>\n",
       "    <tr style=\"text-align: right;\">\n",
       "      <th></th>\n",
       "      <th>id_aluno</th>\n",
       "      <th>id_ies</th>\n",
       "      <th>id_curso</th>\n",
       "      <th>data_competencia</th>\n",
       "      <th>data_vencimento</th>\n",
       "      <th>valor_cobrado</th>\n",
       "      <th>data_baixa</th>\n",
       "    </tr>\n",
       "  </thead>\n",
       "  <tbody>\n",
       "    <tr>\n",
       "      <th>0</th>\n",
       "      <td>189502792563495</td>\n",
       "      <td>25230144647375869829</td>\n",
       "      <td>130762</td>\n",
       "      <td>2025-02-01</td>\n",
       "      <td>2025-02-28</td>\n",
       "      <td>1040.50</td>\n",
       "      <td>NaN</td>\n",
       "    </tr>\n",
       "    <tr>\n",
       "      <th>1</th>\n",
       "      <td>644824673289627</td>\n",
       "      <td>25230144647375869829</td>\n",
       "      <td>754747</td>\n",
       "      <td>2024-03-01</td>\n",
       "      <td>2024-03-30</td>\n",
       "      <td>563.88</td>\n",
       "      <td>2024-03-05</td>\n",
       "    </tr>\n",
       "    <tr>\n",
       "      <th>2</th>\n",
       "      <td>644824673289627</td>\n",
       "      <td>25230144647375869829</td>\n",
       "      <td>754747</td>\n",
       "      <td>2024-04-01</td>\n",
       "      <td>2024-04-30</td>\n",
       "      <td>563.88</td>\n",
       "      <td>2024-04-05</td>\n",
       "    </tr>\n",
       "    <tr>\n",
       "      <th>3</th>\n",
       "      <td>644824673289627</td>\n",
       "      <td>25230144647375869829</td>\n",
       "      <td>754747</td>\n",
       "      <td>2024-05-01</td>\n",
       "      <td>2024-05-30</td>\n",
       "      <td>563.88</td>\n",
       "      <td>2024-05-07</td>\n",
       "    </tr>\n",
       "    <tr>\n",
       "      <th>4</th>\n",
       "      <td>644824673289627</td>\n",
       "      <td>25230144647375869829</td>\n",
       "      <td>754747</td>\n",
       "      <td>2024-06-01</td>\n",
       "      <td>2024-06-30</td>\n",
       "      <td>563.88</td>\n",
       "      <td>2024-06-03</td>\n",
       "    </tr>\n",
       "  </tbody>\n",
       "</table>\n",
       "</div>"
      ],
      "text/plain": [
       "          id_aluno                id_ies  id_curso data_competencia  \\\n",
       "0  189502792563495  25230144647375869829    130762       2025-02-01   \n",
       "1  644824673289627  25230144647375869829    754747       2024-03-01   \n",
       "2  644824673289627  25230144647375869829    754747       2024-04-01   \n",
       "3  644824673289627  25230144647375869829    754747       2024-05-01   \n",
       "4  644824673289627  25230144647375869829    754747       2024-06-01   \n",
       "\n",
       "  data_vencimento  valor_cobrado  data_baixa  \n",
       "0      2025-02-28        1040.50         NaN  \n",
       "1      2024-03-30         563.88  2024-03-05  \n",
       "2      2024-04-30         563.88  2024-04-05  \n",
       "3      2024-05-30         563.88  2024-05-07  \n",
       "4      2024-06-30         563.88  2024-06-03  "
      ]
     },
     "metadata": {},
     "output_type": "display_data"
    }
   ],
   "source": [
    "print(\"Mensalidades:\")\n",
    "display(df_mensalidades.head())"
   ]
  },
  {
   "cell_type": "code",
   "execution_count": 68,
   "metadata": {},
   "outputs": [
    {
     "name": "stdout",
     "output_type": "stream",
     "text": [
      "Ações de Cobrança:\n"
     ]
    },
    {
     "data": {
      "text/html": [
       "<div>\n",
       "<style scoped>\n",
       "    .dataframe tbody tr th:only-of-type {\n",
       "        vertical-align: middle;\n",
       "    }\n",
       "\n",
       "    .dataframe tbody tr th {\n",
       "        vertical-align: top;\n",
       "    }\n",
       "\n",
       "    .dataframe thead th {\n",
       "        text-align: right;\n",
       "    }\n",
       "</style>\n",
       "<table border=\"1\" class=\"dataframe\">\n",
       "  <thead>\n",
       "    <tr style=\"text-align: right;\">\n",
       "      <th></th>\n",
       "      <th>id</th>\n",
       "      <th>acao_cobranca</th>\n",
       "      <th>id_aluno</th>\n",
       "      <th>data_cobranca</th>\n",
       "    </tr>\n",
       "  </thead>\n",
       "  <tbody>\n",
       "    <tr>\n",
       "      <th>0</th>\n",
       "      <td>27</td>\n",
       "      <td>e-mail</td>\n",
       "      <td>696609114597551</td>\n",
       "      <td>2024-05-23</td>\n",
       "    </tr>\n",
       "    <tr>\n",
       "      <th>1</th>\n",
       "      <td>28</td>\n",
       "      <td>whatsapp</td>\n",
       "      <td>696609114597551</td>\n",
       "      <td>2024-05-25</td>\n",
       "    </tr>\n",
       "    <tr>\n",
       "      <th>2</th>\n",
       "      <td>29</td>\n",
       "      <td>SMS</td>\n",
       "      <td>696609114597551</td>\n",
       "      <td>2024-05-28</td>\n",
       "    </tr>\n",
       "    <tr>\n",
       "      <th>3</th>\n",
       "      <td>30</td>\n",
       "      <td>e-mail</td>\n",
       "      <td>696609114597551</td>\n",
       "      <td>2024-05-30</td>\n",
       "    </tr>\n",
       "    <tr>\n",
       "      <th>4</th>\n",
       "      <td>31</td>\n",
       "      <td>SMS</td>\n",
       "      <td>696609114597551</td>\n",
       "      <td>2024-05-30</td>\n",
       "    </tr>\n",
       "  </tbody>\n",
       "</table>\n",
       "</div>"
      ],
      "text/plain": [
       "   id acao_cobranca         id_aluno data_cobranca\n",
       "0  27        e-mail  696609114597551    2024-05-23\n",
       "1  28      whatsapp  696609114597551    2024-05-25\n",
       "2  29           SMS  696609114597551    2024-05-28\n",
       "3  30        e-mail  696609114597551    2024-05-30\n",
       "4  31           SMS  696609114597551    2024-05-30"
      ]
     },
     "metadata": {},
     "output_type": "display_data"
    }
   ],
   "source": [
    "print(\"Ações de Cobrança:\")\n",
    "display(df_cobranca.head())"
   ]
  },
  {
   "cell_type": "markdown",
   "metadata": {},
   "source": [
    "# 2. Análise Exploratória e Tratamento de Dados"
   ]
  },
  {
   "cell_type": "markdown",
   "metadata": {},
   "source": [
    "## 2.1 Mensalidades"
   ]
  },
  {
   "cell_type": "code",
   "execution_count": 69,
   "metadata": {},
   "outputs": [
    {
     "data": {
      "text/html": [
       "<div>\n",
       "<style scoped>\n",
       "    .dataframe tbody tr th:only-of-type {\n",
       "        vertical-align: middle;\n",
       "    }\n",
       "\n",
       "    .dataframe tbody tr th {\n",
       "        vertical-align: top;\n",
       "    }\n",
       "\n",
       "    .dataframe thead th {\n",
       "        text-align: right;\n",
       "    }\n",
       "</style>\n",
       "<table border=\"1\" class=\"dataframe\">\n",
       "  <thead>\n",
       "    <tr style=\"text-align: right;\">\n",
       "      <th></th>\n",
       "      <th>id_aluno</th>\n",
       "      <th>id_ies</th>\n",
       "      <th>id_curso</th>\n",
       "      <th>data_competencia</th>\n",
       "      <th>data_vencimento</th>\n",
       "      <th>valor_cobrado</th>\n",
       "      <th>data_baixa</th>\n",
       "    </tr>\n",
       "  </thead>\n",
       "  <tbody>\n",
       "    <tr>\n",
       "      <th>0</th>\n",
       "      <td>189502792563495</td>\n",
       "      <td>25230144647375869829</td>\n",
       "      <td>130762</td>\n",
       "      <td>2025-02-01</td>\n",
       "      <td>2025-02-28</td>\n",
       "      <td>1040.50</td>\n",
       "      <td>NaT</td>\n",
       "    </tr>\n",
       "    <tr>\n",
       "      <th>1</th>\n",
       "      <td>644824673289627</td>\n",
       "      <td>25230144647375869829</td>\n",
       "      <td>754747</td>\n",
       "      <td>2024-03-01</td>\n",
       "      <td>2024-03-30</td>\n",
       "      <td>563.88</td>\n",
       "      <td>2024-03-05</td>\n",
       "    </tr>\n",
       "    <tr>\n",
       "      <th>2</th>\n",
       "      <td>644824673289627</td>\n",
       "      <td>25230144647375869829</td>\n",
       "      <td>754747</td>\n",
       "      <td>2024-04-01</td>\n",
       "      <td>2024-04-30</td>\n",
       "      <td>563.88</td>\n",
       "      <td>2024-04-05</td>\n",
       "    </tr>\n",
       "    <tr>\n",
       "      <th>3</th>\n",
       "      <td>644824673289627</td>\n",
       "      <td>25230144647375869829</td>\n",
       "      <td>754747</td>\n",
       "      <td>2024-05-01</td>\n",
       "      <td>2024-05-30</td>\n",
       "      <td>563.88</td>\n",
       "      <td>2024-05-07</td>\n",
       "    </tr>\n",
       "    <tr>\n",
       "      <th>4</th>\n",
       "      <td>644824673289627</td>\n",
       "      <td>25230144647375869829</td>\n",
       "      <td>754747</td>\n",
       "      <td>2024-06-01</td>\n",
       "      <td>2024-06-30</td>\n",
       "      <td>563.88</td>\n",
       "      <td>2024-06-03</td>\n",
       "    </tr>\n",
       "  </tbody>\n",
       "</table>\n",
       "</div>"
      ],
      "text/plain": [
       "          id_aluno                id_ies  id_curso data_competencia  \\\n",
       "0  189502792563495  25230144647375869829    130762       2025-02-01   \n",
       "1  644824673289627  25230144647375869829    754747       2024-03-01   \n",
       "2  644824673289627  25230144647375869829    754747       2024-04-01   \n",
       "3  644824673289627  25230144647375869829    754747       2024-05-01   \n",
       "4  644824673289627  25230144647375869829    754747       2024-06-01   \n",
       "\n",
       "  data_vencimento  valor_cobrado data_baixa  \n",
       "0      2025-02-28        1040.50        NaT  \n",
       "1      2024-03-30         563.88 2024-03-05  \n",
       "2      2024-04-30         563.88 2024-04-05  \n",
       "3      2024-05-30         563.88 2024-05-07  \n",
       "4      2024-06-30         563.88 2024-06-03  "
      ]
     },
     "metadata": {},
     "output_type": "display_data"
    }
   ],
   "source": [
    "# Conversão de colunas de datas\n",
    "date_columns = ['data_competencia','data_vencimento', 'data_baixa']\n",
    "for col in date_columns:\n",
    "    df_mensalidades[col] = pd.to_datetime(df_mensalidades[col], errors='coerce')\n",
    "display(df_mensalidades.head())"
   ]
  },
  {
   "cell_type": "code",
   "execution_count": 70,
   "metadata": {},
   "outputs": [
    {
     "name": "stdout",
     "output_type": "stream",
     "text": [
      "Info - Mensalidades:\n",
      "<class 'pandas.core.frame.DataFrame'>\n",
      "RangeIndex: 200000 entries, 0 to 199999\n",
      "Data columns (total 7 columns):\n",
      " #   Column            Non-Null Count   Dtype         \n",
      "---  ------            --------------   -----         \n",
      " 0   id_aluno          200000 non-null  int64         \n",
      " 1   id_ies            200000 non-null  object        \n",
      " 2   id_curso          200000 non-null  int64         \n",
      " 3   data_competencia  200000 non-null  datetime64[ns]\n",
      " 4   data_vencimento   200000 non-null  datetime64[ns]\n",
      " 5   valor_cobrado     200000 non-null  float64       \n",
      " 6   data_baixa        155383 non-null  datetime64[ns]\n",
      "dtypes: datetime64[ns](3), float64(1), int64(2), object(1)\n",
      "memory usage: 10.7+ MB\n",
      "None\n"
     ]
    }
   ],
   "source": [
    "print(\"Info - Mensalidades:\")\n",
    "print(df_mensalidades.info())"
   ]
  },
  {
   "cell_type": "code",
   "execution_count": 71,
   "metadata": {},
   "outputs": [
    {
     "name": "stdout",
     "output_type": "stream",
     "text": [
      "Estatísticas Descritivas - Mensalidades:\n"
     ]
    },
    {
     "data": {
      "text/plain": [
       "count    200000.000000\n",
       "mean        444.957160\n",
       "std         405.536112\n",
       "min           6.040000\n",
       "25%         159.770000\n",
       "50%         289.180000\n",
       "75%         591.420000\n",
       "max       11500.000000\n",
       "Name: valor_cobrado, dtype: float64"
      ]
     },
     "metadata": {},
     "output_type": "display_data"
    }
   ],
   "source": [
    "print(\"Estatísticas Descritivas - Mensalidades:\")\n",
    "display(df_mensalidades['valor_cobrado'].describe())"
   ]
  },
  {
   "cell_type": "code",
   "execution_count": 72,
   "metadata": {},
   "outputs": [
    {
     "name": "stdout",
     "output_type": "stream",
     "text": [
      "\n",
      "Número de registros duplicados em df_mensalidades: 0\n"
     ]
    }
   ],
   "source": [
    "num_duplicados = df_mensalidades.duplicated().sum()\n",
    "print(f\"\\nNúmero de registros duplicados em df_mensalidades: {num_duplicados}\")"
   ]
  },
  {
   "cell_type": "code",
   "execution_count": 73,
   "metadata": {},
   "outputs": [
    {
     "name": "stdout",
     "output_type": "stream",
     "text": [
      "Valores Ausentes - Mensalidades:\n",
      "id_aluno                0\n",
      "id_ies                  0\n",
      "id_curso                0\n",
      "data_competencia        0\n",
      "data_vencimento         0\n",
      "valor_cobrado           0\n",
      "data_baixa          44617\n",
      "dtype: int64\n"
     ]
    }
   ],
   "source": [
    "print(\"Valores Ausentes - Mensalidades:\")\n",
    "print(df_mensalidades.isnull().sum())"
   ]
  },
  {
   "cell_type": "markdown",
   "metadata": {},
   "source": [
    "## 2.2 Ações de Cobrança"
   ]
  },
  {
   "cell_type": "code",
   "execution_count": 74,
   "metadata": {},
   "outputs": [
    {
     "data": {
      "text/html": [
       "<div>\n",
       "<style scoped>\n",
       "    .dataframe tbody tr th:only-of-type {\n",
       "        vertical-align: middle;\n",
       "    }\n",
       "\n",
       "    .dataframe tbody tr th {\n",
       "        vertical-align: top;\n",
       "    }\n",
       "\n",
       "    .dataframe thead th {\n",
       "        text-align: right;\n",
       "    }\n",
       "</style>\n",
       "<table border=\"1\" class=\"dataframe\">\n",
       "  <thead>\n",
       "    <tr style=\"text-align: right;\">\n",
       "      <th></th>\n",
       "      <th>id</th>\n",
       "      <th>acao_cobranca</th>\n",
       "      <th>id_aluno</th>\n",
       "      <th>data_cobranca</th>\n",
       "    </tr>\n",
       "  </thead>\n",
       "  <tbody>\n",
       "    <tr>\n",
       "      <th>0</th>\n",
       "      <td>27</td>\n",
       "      <td>e-mail</td>\n",
       "      <td>696609114597551</td>\n",
       "      <td>2024-05-23</td>\n",
       "    </tr>\n",
       "    <tr>\n",
       "      <th>1</th>\n",
       "      <td>28</td>\n",
       "      <td>whatsapp</td>\n",
       "      <td>696609114597551</td>\n",
       "      <td>2024-05-25</td>\n",
       "    </tr>\n",
       "    <tr>\n",
       "      <th>2</th>\n",
       "      <td>29</td>\n",
       "      <td>SMS</td>\n",
       "      <td>696609114597551</td>\n",
       "      <td>2024-05-28</td>\n",
       "    </tr>\n",
       "    <tr>\n",
       "      <th>3</th>\n",
       "      <td>30</td>\n",
       "      <td>e-mail</td>\n",
       "      <td>696609114597551</td>\n",
       "      <td>2024-05-30</td>\n",
       "    </tr>\n",
       "    <tr>\n",
       "      <th>4</th>\n",
       "      <td>31</td>\n",
       "      <td>SMS</td>\n",
       "      <td>696609114597551</td>\n",
       "      <td>2024-05-30</td>\n",
       "    </tr>\n",
       "  </tbody>\n",
       "</table>\n",
       "</div>"
      ],
      "text/plain": [
       "   id acao_cobranca         id_aluno data_cobranca\n",
       "0  27        e-mail  696609114597551    2024-05-23\n",
       "1  28      whatsapp  696609114597551    2024-05-25\n",
       "2  29           SMS  696609114597551    2024-05-28\n",
       "3  30        e-mail  696609114597551    2024-05-30\n",
       "4  31           SMS  696609114597551    2024-05-30"
      ]
     },
     "metadata": {},
     "output_type": "display_data"
    }
   ],
   "source": [
    "df_cobranca['data_cobranca'] = pd.to_datetime(df_cobranca['data_cobranca'], errors='coerce')\n",
    "display(df_cobranca.head())"
   ]
  },
  {
   "cell_type": "code",
   "execution_count": 75,
   "metadata": {},
   "outputs": [
    {
     "name": "stdout",
     "output_type": "stream",
     "text": [
      "Info - Ações de Cobrança:\n",
      "<class 'pandas.core.frame.DataFrame'>\n",
      "RangeIndex: 1136489 entries, 0 to 1136488\n",
      "Data columns (total 4 columns):\n",
      " #   Column         Non-Null Count    Dtype         \n",
      "---  ------         --------------    -----         \n",
      " 0   id             1136489 non-null  int64         \n",
      " 1   acao_cobranca  1136489 non-null  object        \n",
      " 2   id_aluno       1136489 non-null  int64         \n",
      " 3   data_cobranca  1136489 non-null  datetime64[ns]\n",
      "dtypes: datetime64[ns](1), int64(2), object(1)\n",
      "memory usage: 34.7+ MB\n",
      "None\n"
     ]
    }
   ],
   "source": [
    "print(\"Info - Ações de Cobrança:\")\n",
    "print(df_cobranca.info())"
   ]
  },
  {
   "cell_type": "code",
   "execution_count": 76,
   "metadata": {},
   "outputs": [],
   "source": [
    "# print(\"Estatísticas Descritivas - Cobranças:\")\n",
    "# display(df_cobranca.describe())"
   ]
  },
  {
   "cell_type": "code",
   "execution_count": 77,
   "metadata": {},
   "outputs": [
    {
     "name": "stdout",
     "output_type": "stream",
     "text": [
      "\n",
      "Número de registros duplicados em df_cobranca: 0\n"
     ]
    }
   ],
   "source": [
    "num_duplicados_cobranca = df_cobranca.duplicated().sum()\n",
    "print(f\"\\nNúmero de registros duplicados em df_cobranca: {num_duplicados_cobranca}\")"
   ]
  },
  {
   "cell_type": "code",
   "execution_count": 78,
   "metadata": {},
   "outputs": [
    {
     "name": "stdout",
     "output_type": "stream",
     "text": [
      "Valores Ausentes - Ações de Cobrança:\n",
      "id               0\n",
      "acao_cobranca    0\n",
      "id_aluno         0\n",
      "data_cobranca    0\n",
      "dtype: int64\n"
     ]
    }
   ],
   "source": [
    "print(\"Valores Ausentes - Ações de Cobrança:\")\n",
    "print(df_cobranca.isnull().sum())"
   ]
  },
  {
   "cell_type": "markdown",
   "metadata": {},
   "source": [
    "## 2.3 Mapa de calor de missing values"
   ]
  },
  {
   "cell_type": "code",
   "execution_count": 79,
   "metadata": {},
   "outputs": [
    {
     "data": {
      "image/png": "[encoded data removed]",
      "text/plain": [
       "<Figure size 1000x400 with 1 Axes>"
      ]
     },
     "metadata": {},
     "output_type": "display_data"
    }
   ],
   "source": [
    "plt.figure(figsize=(10,4))\n",
    "sns.heatmap(df_mensalidades.isnull(), cbar=False, cmap='viridis')\n",
    "plt.title('Missing values em df_mensalidades')\n",
    "plt.show()"
   ]
  },
  {
   "cell_type": "code",
   "execution_count": 80,
   "metadata": {},
   "outputs": [
    {
     "data": {
      "image/png": "[encoded data removed]",
      "text/plain": [
       "<Figure size 1000x400 with 1 Axes>"
      ]
     },
     "metadata": {},
     "output_type": "display_data"
    }
   ],
   "source": [
    "plt.figure(figsize=(10,4))\n",
    "sns.heatmap(df_cobranca.isnull(), cbar=False, cmap='viridis')\n",
    "plt.title('Missing values em df_cobranca')\n",
    "plt.show()"
   ]
  },
  {
   "cell_type": "markdown",
   "metadata": {},
   "source": [
    "## 3 Criação das novas colunas"
   ]
  },
  {
   "cell_type": "code",
   "execution_count": 81,
   "metadata": {},
   "outputs": [],
   "source": [
    "# Criar coluna 'status_pagamento'\n",
    "def classify_payment_status(row):\n",
    "    if pd.notnull(row['data_baixa']):\n",
    "        return 'pago'\n",
    "    elif row['data_vencimento'] < pd.Timestamp.today():\n",
    "        return 'inadimplente'\n",
    "    else:\n",
    "        return 'atrasado'\n",
    "\n",
    "df_mensalidades['status_pagamento'] = df_mensalidades.apply(classify_payment_status, axis=1)\n",
    "\n",
    "# Merge dos datasets para associar ações de cobrança com status de pagamento\n",
    "df_merged = df_cobranca.merge(df_mensalidades, on='id_aluno', how='left')\n",
    "\n",
    "# Criar coluna indicando se a cobrança resultou em pagamento\n",
    "df_merged['pagou_apos_cobranca'] = df_merged['data_baixa'].notnull().astype(int)\n",
    "\n",
    "# Criar novas features\n",
    "df_merged['dias_atraso'] = (pd.Timestamp.today() - df_merged['data_vencimento']).dt.days\n",
    "\n",
    "df_merged['num_cobrancas'] = df_merged.groupby('id_aluno')['acao_cobranca'].transform('count')"
   ]
  },
  {
   "cell_type": "code",
   "execution_count": 82,
   "metadata": {},
   "outputs": [
    {
     "data": {
      "text/html": [
       "<div>\n",
       "<style scoped>\n",
       "    .dataframe tbody tr th:only-of-type {\n",
       "        vertical-align: middle;\n",
       "    }\n",
       "\n",
       "    .dataframe tbody tr th {\n",
       "        vertical-align: top;\n",
       "    }\n",
       "\n",
       "    .dataframe thead th {\n",
       "        text-align: right;\n",
       "    }\n",
       "</style>\n",
       "<table border=\"1\" class=\"dataframe\">\n",
       "  <thead>\n",
       "    <tr style=\"text-align: right;\">\n",
       "      <th></th>\n",
       "      <th>id</th>\n",
       "      <th>acao_cobranca</th>\n",
       "      <th>id_aluno</th>\n",
       "      <th>data_cobranca</th>\n",
       "      <th>id_ies</th>\n",
       "      <th>id_curso</th>\n",
       "      <th>data_competencia</th>\n",
       "      <th>data_vencimento</th>\n",
       "      <th>valor_cobrado</th>\n",
       "      <th>data_baixa</th>\n",
       "      <th>status_pagamento</th>\n",
       "      <th>pagou_apos_cobranca</th>\n",
       "      <th>dias_atraso</th>\n",
       "      <th>num_cobrancas</th>\n",
       "    </tr>\n",
       "  </thead>\n",
       "  <tbody>\n",
       "    <tr>\n",
       "      <th>0</th>\n",
       "      <td>27</td>\n",
       "      <td>e-mail</td>\n",
       "      <td>696609114597551</td>\n",
       "      <td>2024-05-23</td>\n",
       "      <td>25230144647375869829</td>\n",
       "      <td>251332</td>\n",
       "      <td>2024-04-01</td>\n",
       "      <td>2024-04-30</td>\n",
       "      <td>1259.38</td>\n",
       "      <td>2024-04-08</td>\n",
       "      <td>pago</td>\n",
       "      <td>1</td>\n",
       "      <td>303</td>\n",
       "      <td>306</td>\n",
       "    </tr>\n",
       "    <tr>\n",
       "      <th>1</th>\n",
       "      <td>27</td>\n",
       "      <td>e-mail</td>\n",
       "      <td>696609114597551</td>\n",
       "      <td>2024-05-23</td>\n",
       "      <td>25230144647375869829</td>\n",
       "      <td>383434</td>\n",
       "      <td>2024-05-01</td>\n",
       "      <td>2024-05-30</td>\n",
       "      <td>1259.38</td>\n",
       "      <td>2024-06-21</td>\n",
       "      <td>pago</td>\n",
       "      <td>1</td>\n",
       "      <td>273</td>\n",
       "      <td>306</td>\n",
       "    </tr>\n",
       "    <tr>\n",
       "      <th>2</th>\n",
       "      <td>27</td>\n",
       "      <td>e-mail</td>\n",
       "      <td>696609114597551</td>\n",
       "      <td>2024-05-23</td>\n",
       "      <td>25230144647375869829</td>\n",
       "      <td>383434</td>\n",
       "      <td>2024-06-01</td>\n",
       "      <td>2024-06-30</td>\n",
       "      <td>1259.38</td>\n",
       "      <td>2024-07-05</td>\n",
       "      <td>pago</td>\n",
       "      <td>1</td>\n",
       "      <td>242</td>\n",
       "      <td>306</td>\n",
       "    </tr>\n",
       "    <tr>\n",
       "      <th>3</th>\n",
       "      <td>27</td>\n",
       "      <td>e-mail</td>\n",
       "      <td>696609114597551</td>\n",
       "      <td>2024-05-23</td>\n",
       "      <td>25230144647375869829</td>\n",
       "      <td>383434</td>\n",
       "      <td>2024-08-01</td>\n",
       "      <td>2024-08-30</td>\n",
       "      <td>1259.38</td>\n",
       "      <td>2024-08-14</td>\n",
       "      <td>pago</td>\n",
       "      <td>1</td>\n",
       "      <td>181</td>\n",
       "      <td>306</td>\n",
       "    </tr>\n",
       "    <tr>\n",
       "      <th>4</th>\n",
       "      <td>27</td>\n",
       "      <td>e-mail</td>\n",
       "      <td>696609114597551</td>\n",
       "      <td>2024-05-23</td>\n",
       "      <td>25230144647375869829</td>\n",
       "      <td>383434</td>\n",
       "      <td>2024-09-01</td>\n",
       "      <td>2024-09-30</td>\n",
       "      <td>1259.38</td>\n",
       "      <td>2024-09-26</td>\n",
       "      <td>pago</td>\n",
       "      <td>1</td>\n",
       "      <td>150</td>\n",
       "      <td>306</td>\n",
       "    </tr>\n",
       "    <tr>\n",
       "      <th>...</th>\n",
       "      <td>...</td>\n",
       "      <td>...</td>\n",
       "      <td>...</td>\n",
       "      <td>...</td>\n",
       "      <td>...</td>\n",
       "      <td>...</td>\n",
       "      <td>...</td>\n",
       "      <td>...</td>\n",
       "      <td>...</td>\n",
       "      <td>...</td>\n",
       "      <td>...</td>\n",
       "      <td>...</td>\n",
       "      <td>...</td>\n",
       "      <td>...</td>\n",
       "    </tr>\n",
       "    <tr>\n",
       "      <th>6272454</th>\n",
       "      <td>1306595</td>\n",
       "      <td>SMS</td>\n",
       "      <td>873863957249792</td>\n",
       "      <td>2024-02-09</td>\n",
       "      <td>59545441076813107334</td>\n",
       "      <td>341447</td>\n",
       "      <td>2024-02-01</td>\n",
       "      <td>2024-02-12</td>\n",
       "      <td>3469.40</td>\n",
       "      <td>2024-02-14</td>\n",
       "      <td>pago</td>\n",
       "      <td>1</td>\n",
       "      <td>381</td>\n",
       "      <td>7</td>\n",
       "    </tr>\n",
       "    <tr>\n",
       "      <th>6272455</th>\n",
       "      <td>1306596</td>\n",
       "      <td>e-mail</td>\n",
       "      <td>873863957249792</td>\n",
       "      <td>2024-02-11</td>\n",
       "      <td>59545441076813107334</td>\n",
       "      <td>341447</td>\n",
       "      <td>2024-02-01</td>\n",
       "      <td>2024-02-12</td>\n",
       "      <td>3469.40</td>\n",
       "      <td>2024-02-14</td>\n",
       "      <td>pago</td>\n",
       "      <td>1</td>\n",
       "      <td>381</td>\n",
       "      <td>7</td>\n",
       "    </tr>\n",
       "    <tr>\n",
       "      <th>6272456</th>\n",
       "      <td>1306597</td>\n",
       "      <td>SMS</td>\n",
       "      <td>873863957249792</td>\n",
       "      <td>2024-02-11</td>\n",
       "      <td>59545441076813107334</td>\n",
       "      <td>341447</td>\n",
       "      <td>2024-02-01</td>\n",
       "      <td>2024-02-12</td>\n",
       "      <td>3469.40</td>\n",
       "      <td>2024-02-14</td>\n",
       "      <td>pago</td>\n",
       "      <td>1</td>\n",
       "      <td>381</td>\n",
       "      <td>7</td>\n",
       "    </tr>\n",
       "    <tr>\n",
       "      <th>6272457</th>\n",
       "      <td>1306598</td>\n",
       "      <td>whatsapp</td>\n",
       "      <td>873863957249792</td>\n",
       "      <td>2024-02-11</td>\n",
       "      <td>59545441076813107334</td>\n",
       "      <td>341447</td>\n",
       "      <td>2024-02-01</td>\n",
       "      <td>2024-02-12</td>\n",
       "      <td>3469.40</td>\n",
       "      <td>2024-02-14</td>\n",
       "      <td>pago</td>\n",
       "      <td>1</td>\n",
       "      <td>381</td>\n",
       "      <td>7</td>\n",
       "    </tr>\n",
       "    <tr>\n",
       "      <th>6272458</th>\n",
       "      <td>1306599</td>\n",
       "      <td>whatsapp</td>\n",
       "      <td>873863957249792</td>\n",
       "      <td>2024-02-13</td>\n",
       "      <td>59545441076813107334</td>\n",
       "      <td>341447</td>\n",
       "      <td>2024-02-01</td>\n",
       "      <td>2024-02-12</td>\n",
       "      <td>3469.40</td>\n",
       "      <td>2024-02-14</td>\n",
       "      <td>pago</td>\n",
       "      <td>1</td>\n",
       "      <td>381</td>\n",
       "      <td>7</td>\n",
       "    </tr>\n",
       "  </tbody>\n",
       "</table>\n",
       "<p>6272459 rows × 14 columns</p>\n",
       "</div>"
      ],
      "text/plain": [
       "              id acao_cobranca         id_aluno data_cobranca  \\\n",
       "0             27        e-mail  696609114597551    2024-05-23   \n",
       "1             27        e-mail  696609114597551    2024-05-23   \n",
       "2             27        e-mail  696609114597551    2024-05-23   \n",
       "3             27        e-mail  696609114597551    2024-05-23   \n",
       "4             27        e-mail  696609114597551    2024-05-23   \n",
       "...          ...           ...              ...           ...   \n",
       "6272454  1306595           SMS  873863957249792    2024-02-09   \n",
       "6272455  1306596        e-mail  873863957249792    2024-02-11   \n",
       "6272456  1306597           SMS  873863957249792    2024-02-11   \n",
       "6272457  1306598      whatsapp  873863957249792    2024-02-11   \n",
       "6272458  1306599      whatsapp  873863957249792    2024-02-13   \n",
       "\n",
       "                       id_ies  id_curso data_competencia data_vencimento  \\\n",
       "0        25230144647375869829    251332       2024-04-01      2024-04-30   \n",
       "1        25230144647375869829    383434       2024-05-01      2024-05-30   \n",
       "2        25230144647375869829    383434       2024-06-01      2024-06-30   \n",
       "3        25230144647375869829    383434       2024-08-01      2024-08-30   \n",
       "4        25230144647375869829    383434       2024-09-01      2024-09-30   \n",
       "...                       ...       ...              ...             ...   \n",
       "6272454  59545441076813107334    341447       2024-02-01      2024-02-12   \n",
       "6272455  59545441076813107334    341447       2024-02-01      2024-02-12   \n",
       "6272456  59545441076813107334    341447       2024-02-01      2024-02-12   \n",
       "6272457  59545441076813107334    341447       2024-02-01      2024-02-12   \n",
       "6272458  59545441076813107334    341447       2024-02-01      2024-02-12   \n",
       "\n",
       "         valor_cobrado data_baixa status_pagamento  pagou_apos_cobranca  \\\n",
       "0              1259.38 2024-04-08             pago                    1   \n",
       "1              1259.38 2024-06-21             pago                    1   \n",
       "2              1259.38 2024-07-05             pago                    1   \n",
       "3              1259.38 2024-08-14             pago                    1   \n",
       "4              1259.38 2024-09-26             pago                    1   \n",
       "...                ...        ...              ...                  ...   \n",
       "6272454        3469.40 2024-02-14             pago                    1   \n",
       "6272455        3469.40 2024-02-14             pago                    1   \n",
       "6272456        3469.40 2024-02-14             pago                    1   \n",
       "6272457        3469.40 2024-02-14             pago                    1   \n",
       "6272458        3469.40 2024-02-14             pago                    1   \n",
       "\n",
       "         dias_atraso  num_cobrancas  \n",
       "0                303            306  \n",
       "1                273            306  \n",
       "2                242            306  \n",
       "3                181            306  \n",
       "4                150            306  \n",
       "...              ...            ...  \n",
       "6272454          381              7  \n",
       "6272455          381              7  \n",
       "6272456          381              7  \n",
       "6272457          381              7  \n",
       "6272458          381              7  \n",
       "\n",
       "[6272459 rows x 14 columns]"
      ]
     },
     "execution_count": 82,
     "metadata": {},
     "output_type": "execute_result"
    }
   ],
   "source": [
    "df_merged"
   ]
  },
  {
   "cell_type": "code",
   "execution_count": 83,
   "metadata": {},
   "outputs": [
    {
     "name": "stdout",
     "output_type": "stream",
     "text": [
      "\n",
      "Número de registros duplicados: 0\n"
     ]
    }
   ],
   "source": [
    "num_duplicados_merged = df_merged.duplicated().sum()\n",
    "print(f\"\\nNúmero de registros duplicados: {num_duplicados_merged}\")"
   ]
  },
  {
   "cell_type": "code",
   "execution_count": 84,
   "metadata": {},
   "outputs": [
    {
     "name": "stdout",
     "output_type": "stream",
     "text": [
      "id                           0\n",
      "acao_cobranca                0\n",
      "id_aluno                     0\n",
      "data_cobranca                0\n",
      "id_ies                       0\n",
      "id_curso                     0\n",
      "data_competencia             0\n",
      "data_vencimento              0\n",
      "valor_cobrado                0\n",
      "data_baixa             1895131\n",
      "status_pagamento             0\n",
      "pagou_apos_cobranca          0\n",
      "dias_atraso                  0\n",
      "num_cobrancas                0\n",
      "dtype: int64\n"
     ]
    }
   ],
   "source": [
    "print(df_merged.isnull().sum())"
   ]
  },
  {
   "cell_type": "markdown",
   "metadata": {},
   "source": [
    "# 4. Treinamento modelo Random Forest"
   ]
  },
  {
   "cell_type": "code",
   "execution_count": 85,
   "metadata": {},
   "outputs": [
    {
     "name": "stderr",
     "output_type": "stream",
     "text": [
      "Treinando modelo: 100%|██████████| 1/1 [03:23<00:00, 203.44s/it]\n"
     ]
    },
    {
     "name": "stdout",
     "output_type": "stream",
     "text": [
      "Tempo de treinamento: 203.45 segundos\n"
     ]
    }
   ],
   "source": [
    "# Seleção de features para o modelo\n",
    "features = ['acao_cobranca', 'valor_cobrado', 'dias_atraso', 'num_cobrancas']\n",
    "df_model = df_merged[features + ['pagou_apos_cobranca']]\n",
    "\n",
    "# Codificação da variável categórica com LabelEncoder\n",
    "le = LabelEncoder()\n",
    "df_model['acao_cobranca'] = le.fit_transform(df_model['acao_cobranca'])\n",
    "\n",
    "# Divisão entre treino e teste\n",
    "X = df_model.drop(columns=['pagou_apos_cobranca'])\n",
    "y = df_model['pagou_apos_cobranca']\n",
    "X_train, X_test, y_train, y_test = train_test_split(X, y, test_size=0.2, random_state=42, stratify=y)\n",
    "\n",
    "#Treinamento\n",
    "start_time = time.time()\n",
    "model = RandomForestClassifier(n_estimators=100, max_depth=15, class_weight='balanced', random_state=42, n_jobs=-1)\n",
    "for _ in tqdm(range(1), desc=\"Treinando modelo\"):\n",
    "    model.fit(X_train, y_train)\n",
    "end_time = time.time()\n",
    "print(f\"Tempo de treinamento: {end_time - start_time:.2f} segundos\")\n",
    "\n",
    "# Avaliação do modelo\n",
    "y_pred = model.predict(X_test)\n",
    "y_pred_proba = model.predict_proba(X_test)[:, 1]"
   ]
  },
  {
   "cell_type": "code",
   "execution_count": 86,
   "metadata": {},
   "outputs": [
    {
     "name": "stdout",
     "output_type": "stream",
     "text": [
      "\n",
      "Resultados do Random Forest:\n",
      "Accuracy: 0.8840\n",
      "ROC AUC: 0.9516\n",
      "Classification Report:\n",
      "              precision    recall  f1-score   support\n",
      "\n",
      "           0       0.79      0.85      0.82    379026\n",
      "           1       0.93      0.90      0.92    875466\n",
      "\n",
      "    accuracy                           0.88   1254492\n",
      "   macro avg       0.86      0.87      0.87   1254492\n",
      "weighted avg       0.89      0.88      0.89   1254492\n",
      "\n"
     ]
    }
   ],
   "source": [
    "print(\"\\nResultados do Random Forest:\")\n",
    "print(f\"Accuracy: {accuracy_score(y_test, y_pred):.4f}\")\n",
    "print(f\"ROC AUC: {roc_auc_score(y_test, y_pred_proba):.4f}\")\n",
    "print(\"Classification Report:\")\n",
    "print(classification_report(y_test, y_pred))"
   ]
  },
  {
   "cell_type": "markdown",
   "metadata": {},
   "source": [
    "## 5. Gráficos do modelo"
   ]
  },
  {
   "cell_type": "code",
   "execution_count": 87,
   "metadata": {},
   "outputs": [
    {
     "data": {
      "image/png": "[encoded data removed]",
      "text/plain": [
       "<Figure size 600x400 with 2 Axes>"
      ]
     },
     "metadata": {},
     "output_type": "display_data"
    }
   ],
   "source": [
    "# Matriz de confusão\n",
    "conf_matrix = confusion_matrix(y_test, y_pred)\n",
    "plt.figure(figsize=(6, 4))\n",
    "sns.heatmap(conf_matrix, annot=True, fmt=\"d\", cmap=\"Blues\", xticklabels=[\"Não Pagou\", \"Pagou\"], yticklabels=[\"Não Pagou\", \"Pagou\"])\n",
    "plt.xlabel(\"Previsto\")\n",
    "plt.ylabel(\"Real\")\n",
    "plt.title(\"Matriz de Confusão\")\n",
    "plt.show()"
   ]
  },
  {
   "cell_type": "markdown",
   "metadata": {},
   "source": [
    "## 📊 Matriz de Confusão\n",
    "A matriz de confusão mostra os acertos e erros do modelo ao classificar os alunos em **pagadores** e **inadimplentes**.\n",
    "\n",
    "| Classe Real | Previsto: Não Pagou | Previsto: Pagou |\n",
    "|------------|-----------------|-----------------|\n",
    "| **Não Pagou (Real 0)** | 321.146 (✅ Correto) | 57.880 (❌ Erro - Falso Positivo) |\n",
    "| **Pagou (Real 1)** | 87.607 (❌ Erro - Falso Negativo) | 787.859 (✅ Correto) |\n"
   ]
  },
  {
   "cell_type": "code",
   "execution_count": 88,
   "metadata": {},
   "outputs": [
    {
     "data": {
      "image/png": "[encoded data removed]",
      "text/plain": [
       "<Figure size 600x400 with 1 Axes>"
      ]
     },
     "metadata": {},
     "output_type": "display_data"
    }
   ],
   "source": [
    "# Curva ROC\n",
    "fpr, tpr, _ = roc_curve(y_test, y_pred_proba)\n",
    "roc_auc = auc(fpr, tpr)\n",
    "\n",
    "plt.figure(figsize=(6, 4))\n",
    "plt.plot(fpr, tpr, color='blue', lw=2, label=f'ROC AUC = {roc_auc:.4f}')\n",
    "plt.plot([0, 1], [0, 1], color='gray', linestyle='--')\n",
    "plt.xlabel(\"Taxa de Falsos Positivos (FPR)\")\n",
    "plt.ylabel(\"Taxa de Verdadeiros Positivos (TPR)\")\n",
    "plt.title(\"Curva ROC\")\n",
    "plt.legend(loc=\"lower right\")\n",
    "plt.show()"
   ]
  },
  {
   "cell_type": "markdown",
   "metadata": {},
   "source": [
    "## 📈 Curva ROC\n",
    "A **Curva ROC (Receiver Operating Characteristic)** avalia a capacidade do modelo de separar corretamente as classes **pagador (1)** e **inadimplente (0)**.\n",
    "\n",
    "- A curva **mais próxima do canto superior esquerdo** indica um modelo **melhor**.\n",
    "- O **ROC AUC = 0.9516** indica um **ótimo desempenho**, pois valores próximos de 1 significam que o modelo diferencia bem entre pagadores e inadimplentes.\n",
    "- A **linha cinza pontilhada** representa um modelo aleatório (**50% de acerto**), então quanto mais acima dessa linha, melhor."
   ]
  },
  {
   "cell_type": "code",
   "execution_count": 89,
   "metadata": {},
   "outputs": [
    {
     "data": {
      "image/png": "[encoded data removed]",
      "text/plain": [
       "<Figure size 600x400 with 1 Axes>"
      ]
     },
     "metadata": {},
     "output_type": "display_data"
    }
   ],
   "source": [
    "# Importância das Features\n",
    "feature_importance = model.feature_importances_\n",
    "feature_names = X.columns\n",
    "\n",
    "plt.figure(figsize=(6, 4))\n",
    "sns.barplot(x=feature_importance, y=feature_names, palette=\"viridis\")\n",
    "plt.xlabel(\"Importância\")\n",
    "plt.ylabel(\"Feature\")\n",
    "plt.title(\"Importância das Features no Modelo\")\n",
    "plt.show()"
   ]
  },
  {
   "cell_type": "markdown",
   "metadata": {},
   "source": [
    "## 🔍 Importância das Features\n",
    "Esse gráfico mostra **quais variáveis mais impactam a decisão do modelo**.\n",
    "\n",
    "- **`num_cobrancas`** é a feature mais importante, indicando que o número de cobranças feitas tem forte influência na decisão.\n",
    "- **`dias_atraso`** também tem grande impacto, ou seja, **quanto mais tempo o aluno está em atraso, maior a probabilidade de inadimplência**.\n",
    "- **`valor_cobrado`** tem impacto moderado.\n",
    "- **`acao_cobranca`** tem impacto baixo, indicando que o tipo de cobrança pode não ser tão relevante quanto a frequência das cobranças."
   ]
  },
  {
   "cell_type": "markdown",
   "metadata": {},
   "source": [
    "# 6. Relatório Final"
   ]
  },
  {
   "cell_type": "markdown",
   "metadata": {},
   "source": [
    "## 🎯 Objetivo do Projeto\n",
    "O objetivo deste projeto é desenvolver um **modelo preditivo** para estimar a probabilidade de um aluno **pagar sua mensalidade** após receber uma ação de cobrança. Isso ajudará a otimizar estratégias de cobrança, aumentando a eficácia e reduzindo a inadimplência.\n",
    "\n",
    "---\n",
    "\n",
    "## 📂 Processamento dos Dados\n",
    "### 1️⃣ **Leitura e Tratamento dos Dados**\n",
    "- **Dois conjuntos de dados foram utilizados**:\n",
    "  - `df_mensalidades`: Contém informações sobre as mensalidades dos alunos (valor, vencimento e pagamento).\n",
    "  - `df_cobranca`: Contém o histórico das ações de cobrança (tipo de cobrança e data).\n",
    "- **Conversão das colunas de datas** para o formato `datetime`, garantindo compatibilidade nas operações.\n",
    "\n",
    "### 2️⃣ **Criação de Features**\n",
    "- **Status do Pagamento** (`status_pagamento`): Classifica os alunos em:\n",
    "  - `pago`: Se a mensalidade foi quitada.\n",
    "  - `inadimplente`: Se já venceu e não foi paga.\n",
    "  - `atrasado`: Se ainda está dentro do prazo, mas não foi paga.\n",
    "- **Merge entre os datasets** para associar cada cobrança a um status de pagamento.\n",
    "- **Criação da variável alvo (`pagou_apos_cobranca`)**:\n",
    "  - **1** → O aluno pagou após a cobrança.\n",
    "  - **0** → O aluno não pagou após a cobrança.\n",
    "- **Novas features adicionadas**:\n",
    "  - `dias_atraso`: Número de dias desde o vencimento da mensalidade.\n",
    "  - `num_cobrancas`: Quantidade de cobranças feitas ao aluno.\n",
    "\n",
    "---\n",
    "\n",
    "## 🤖 Modelo Utilizado\n",
    "O modelo escolhido foi o **Random Forest Classifier**.  \n",
    "\n",
    "### 🛠️ **Por que Random Forest?**\n",
    "✔️ **Balanceia bem viés e variância** (evita overfitting).  \n",
    "✔️ **Lida bem com variáveis categóricas e numéricas**.  \n",
    "✔️ **Explicável e robusto** para dados com ruído.  \n",
    "✔️ **Bom desempenho mesmo sem ajustes complexos**.  \n",
    "\n",
    "### ⚙️ **Configuração do Modelo**\n",
    "- **`n_estimators=100`** → 100 árvores na floresta.\n",
    "- **`max_depth=15`** → Limita a profundidade das árvores para evitar overfitting.\n",
    "- **`class_weight='balanced'`** → Corrige desbalanceamento entre pagadores e inadimplentes.\n",
    "- **`random_state=42`** → Garante reprodutibilidade dos resultados.\n",
    "\n",
    "---\n",
    "\n",
    "## 📊 Avaliação do Modelo\n",
    "### ✅ **Resultados Principais**\n",
    "| **Métrica**         | **Valor** |\n",
    "|---------------------|----------|\n",
    "| **Acurácia**       | 88.40%   |\n",
    "| **ROC AUC**        | 95.16%   |\n",
    "| **Precision (0)**  | 79%      |\n",
    "| **Recall (0)**     | 85%      |\n",
    "| **Precision (1)**  | 93%      |\n",
    "| **Recall (1)**     | 90%      |\n",
    "\n",
    "### 📌 **Análise**\n",
    "🔹 O modelo tem **alta precisão para prever inadimplentes** (85% recall), ajudando a identificar corretamente quem precisa de mais cobranças.  \n",
    "🔹 A **ROC AUC de 95.16%** indica que o modelo separa muito bem pagadores e inadimplentes.  \n",
    "🔹 **Pouca taxa de falsos positivos**, reduzindo abordagens desnecessárias a alunos que já pagariam.\n",
    "\n",
    "---\n",
    "\n",
    "## 🎯 Conclusão\n",
    "- O modelo **Random Forest** foi eficaz na previsão de pagamentos, atingindo **alta acurácia (88.40%)** e **excelente separação de classes (ROC AUC 95.16%)**.\n",
    "- A criação das novas features **melhorou a capacidade preditiva**, destacando a importância da **quantidade de cobranças e do tempo de atraso**.\n",
    "- Pode ser usado para **otimizar estratégias de cobrança**, priorizando alunos com maior risco de inadimplência.\n"
   ]
  }
 ],
 "metadata": {
  "kernelspec": {
   "display_name": ".venv",
   "language": "python",
   "name": "python3"
  },
  "language_info": {
   "codemirror_mode": {
    "name": "ipython",
    "version": 3
   },
   "file_extension": ".py",
   "mimetype": "text/x-python",
   "name": "python",
   "nbconvert_exporter": "python",
   "pygments_lexer": "ipython3",
   "version": "3.13.0"
  }
 },
 "nbformat": 4,
 "nbformat_minor": 2
}
